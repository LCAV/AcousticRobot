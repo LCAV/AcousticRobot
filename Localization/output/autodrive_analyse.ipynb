{
 "cells": [
  {
   "cell_type": "code",
   "execution_count": 293,
   "metadata": {
    "collapsed": false
   },
   "outputs": [],
   "source": [
    "import math\n",
    "import numpy as np\n",
    "import csv\n",
    "\n",
    "def area(array):\n",
    "#array should be like (x,y)\n",
    "    yaxis = (0,1)\n",
    "    angle = (array[0]*yaxis[0]+array[1]*yaxis[1])/(math.sqrt(math.pow(array[0],2)+math.pow(array[1],2)))\n",
    "    THETA = np.arccos(angle)\n",
    "    if array[0] > 0:\n",
    "        THETA = THETA*180/math.pi\n",
    "    else:\n",
    "        THETA = -THETA*180/math.pi\n",
    "    \n",
    "    return THETA\n",
    "\n",
    "def read_file(inputfile):\n",
    "    points_array=[]\n",
    "    with open(inputfile) as f:\n",
    "        c=csv.reader(f)\n",
    "        for line in c :\n",
    "            points_array.extend(line)\n",
    "    return points_array\n",
    "def get_para(inputfile):\n",
    "    c=read_file(inputfile)\n",
    "    points=[]\n",
    "    for i in range(0,len(c),2):\n",
    "        points.append((int(c[i]),int(c[i+1])))\n",
    "\n",
    "    array=[]\n",
    "    for i in range(0, len(points)-1):\n",
    "        array.append((points[i+1][0]-points[i][0],points[i+1][1]-points[i][1]))\n",
    "\n",
    "    d1=math.sqrt(math.pow(points[1][0]-points[0][0],2)+math.pow(points[1][1]-points[0][1],2))\n",
    "    d=[d1]\n",
    "    for i in range(0,len(points)-2):\n",
    "        d.append(math.sqrt(math.pow(points[i+2][0]-points[i+1][0],2)+math.pow(points[i+2][1]-points[i+1][1],2)))\n",
    "\n",
    "    theta1=np.arctan(points[1][1]/points[1][0])*180/math.pi\n",
    "    theta=[theta1]\n",
    "    for i in range(0,len(array)-1):\n",
    "        cos=(array[i][0]*array[i+1][0]+array[i][1]*array[i+1][1])/d[i]/d[i+1]\n",
    "        theta.append(np.arccos(cos)*180/math.pi)\n",
    "\n",
    "    ref_theta=[]\n",
    "    for i in range(0,len(array)):\n",
    "        ref_theta.append(area(array[i]))\n",
    "\n",
    "    angle=[0]*len(theta)\n",
    "    for i in range(0,len(theta)):\n",
    "        if i ==0:\n",
    "            angle[i]=(round(theta[i],2),'r')\n",
    "        elif round(ref_theta[i]-ref_theta[i-1],3)==round(theta[i],3):\n",
    "            angle[i]=(round(theta[i],2),'r')   \n",
    "        elif round(-ref_theta[i]+ref_theta[i-1],3)==round(theta[i],3):\n",
    "            angle[i]=(round(theta[i],2),'l')\n",
    "        elif round(-ref_theta[i]+360+ref_theta[i-1],3)==round(theta[i],3):\n",
    "            angle[i]=(round(theta[i],2),'l')\n",
    "        elif round(ref_theta[i]-360-ref_theta[i-1],3)==round(theta[i],3):\n",
    "            angle[i]=(round(theta[i],2),'r')\n",
    "\n",
    "    return angle,d"
   ]
  },
  {
   "cell_type": "code",
   "execution_count": 299,
   "metadata": {
    "collapsed": false
   },
   "outputs": [
    {
     "data": {
      "text/plain": [
       "[(45.0, 'r'),\n",
       " (45.0, 'r'),\n",
       " (90.0, 'l'),\n",
       " (108.43000000000001, 'l'),\n",
       " (71.569999999999993, 'l'),\n",
       " (146.31, 'l'),\n",
       " (33.689999999999998, 'l'),\n",
       " (180.0, 'l'),\n",
       " (90.0, 'r'),\n",
       " (0.0, 'r')]"
      ]
     },
     "execution_count": 299,
     "metadata": {},
     "output_type": "execute_result"
    }
   ],
   "source": [
    "angle,distance=get_para('autocommand.txt')"
   ]
  }
 ],
 "metadata": {
  "kernelspec": {
   "display_name": "Python [Root]",
   "language": "python",
   "name": "Python [Root]"
  },
  "language_info": {
   "codemirror_mode": {
    "name": "ipython",
    "version": 3
   },
   "file_extension": ".py",
   "mimetype": "text/x-python",
   "name": "python",
   "nbconvert_exporter": "python",
   "pygments_lexer": "ipython3",
   "version": "3.5.2"
  }
 },
 "nbformat": 4,
 "nbformat_minor": 0
}
