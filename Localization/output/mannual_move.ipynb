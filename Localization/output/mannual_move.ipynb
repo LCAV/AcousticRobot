{
 "cells": [
  {
   "cell_type": "code",
   "execution_count": 1,
   "metadata": {
    "collapsed": false
   },
   "outputs": [],
   "source": [
    "import numpy as np\n",
    "import math\n",
    "import csv\n",
    "import matplotlib.pyplot as plt  \n",
    "from IPython.display import display\n",
    "%matplotlib inline \n",
    "\n",
    "def output_results(input_file,output_file):\n",
    "    #define parameters\n",
    "    l=[]\n",
    "    r=[]\n",
    "    d=[]\n",
    "    m=[]\n",
    "    result=[]\n",
    "    distance_l=[]\n",
    "    distance_r=[]\n",
    "    direction=[]\n",
    "    \n",
    "    n_tot=22014\n",
    "    rad=0.155\n",
    "    R=0.4\n",
    "    \n",
    "    #input raw data\n",
    "    with open(input_file) as f:\n",
    "        c=csv.reader(f,delimiter = '\\t')\n",
    "        for line in c:\n",
    "            result.extend(line)\n",
    "    #-------save it as a list-------\n",
    "    #l and r are the lists of number while d is the list of string\n",
    "    for i in range(0,len(result)):\n",
    "        if i%3 == 0:\n",
    "            d.append(result[i])\n",
    "        if (i-1)%3 ==0:\n",
    "            l.append(result[i])\n",
    "        if (i-2)%3 == 0:\n",
    "            r.append(result[i])        \n",
    "        l=[int(i) for i in l]\n",
    "        r=[int(i) for i in r]\n",
    "    \n",
    "    #transform number of impulses to distance\n",
    "    for i in range(1,int(len(l)/2)+1):\n",
    "        result=2*math.pi*rad*(l[i*2]-l[i*2-1])/n_tot\n",
    "        distance_l.append(result)\n",
    "        results=2*math.pi*rad*(r[i*2]-r[i*2-1])/n_tot\n",
    "        distance_r.append(results)\n",
    "\n",
    "    distance_total=np.zeros(len(distance_l))\n",
    "    for i in range(0,len(d)):\n",
    "        if i%2 !=0:\n",
    "            direction.append(d[i])\n",
    "    \n",
    "    #analyze data and save it \n",
    "    RESULTS=open(output_file,'w')\n",
    "    for i in range(0,len(direction)):\n",
    "        if direction[i] != 'f' and direction[i] != 'b':\n",
    "            distance_total[i] = -(distance_l[i] + distance_r[i])/2/2/math.pi/R*360\n",
    "\n",
    "            RESULTS.write('The {} interval is turning whose angles are : '.format(i) + str(distance_total[i]) + '\\n')\n",
    "        else:\n",
    "            distance_total[i] = ((distance_r[i] - distance_l[i])/2)\n",
    "\n",
    "            RESULTS.write('The {} interval is moving whose distances are : '.format(i) + str(distance_total[i]) + '\\n')\n",
    "\n",
    "    #assuming the robot starts from point(0,0), and now we are going to depict its every stop point. \n",
    "    RESULTS.write('\\nthe starting point is (0,0)'+'\\n')\n",
    "    x=0\n",
    "    y=0\n",
    "    theta=0\n",
    "    X=[0]\n",
    "    Y=[0]\n",
    "    for i in range(0, len(distance_total)):\n",
    "        if direction[i] != 'f' and direction[i] != 'b':\n",
    "            theta=theta+distance_total[i]\n",
    "        else:\n",
    "            x = x + distance_total[i]*math.sin(theta/360*2*math.pi)\n",
    "            y = y + distance_total[i]*math.cos(theta/360*2*math.pi)\n",
    "        \n",
    "        X.append(x)\n",
    "        Y.append(y)\n",
    "       \n",
    "        RESULTS.write('now the robot is on({:.3f}, {:.3f}, {:.3f})'.format(x,y,float(theta))+'\\n')\n",
    "    #plotting\n",
    "    print(distance_total)\n",
    "    plt.grid(True)\n",
    "    plt.plot(X,Y,'cx--') \n",
    "    plt.show()"
   ]
  },
  {
   "cell_type": "code",
   "execution_count": 10,
   "metadata": {
    "collapsed": false
   },
   "outputs": [
    {
     "name": "stdout",
     "output_type": "stream",
     "text": [
      "[ 69.70564186  -0.3981577  -95.053148     0.3981577 ]\n"
     ]
    },
    {
     "data": {
      "image/png": "[encoded data removed]",
      "text/plain": [
       "<matplotlib.figure.Figure at 0x10aac3e80>"
      ]
     },
     "metadata": {},
     "output_type": "display_data"
    }
   ],
   "source": [
    "output_results('inputs_tim.txt','result.txt')"
   ]
  }
 ],
 "metadata": {
  "anaconda-cloud": {},
  "kernelspec": {
   "display_name": "Python [Root]",
   "language": "python",
   "name": "Python [Root]"
  },
  "language_info": {
   "codemirror_mode": {
    "name": "ipython",
    "version": 3
   },
   "file_extension": ".py",
   "mimetype": "text/x-python",
   "name": "python",
   "nbconvert_exporter": "python",
   "pygments_lexer": "ipython3",
   "version": "3.5.2"
  }
 },
 "nbformat": 4,
 "nbformat_minor": 0
}
